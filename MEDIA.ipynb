{
  "nbformat": 4,
  "nbformat_minor": 0,
  "metadata": {
    "colab": {
      "provenance": []
    },
    "kernelspec": {
      "name": "python3",
      "display_name": "Python 3"
    },
    "language_info": {
      "name": "python"
    }
  },
  "cells": [
    {
      "cell_type": "code",
      "execution_count": null,
      "metadata": {
        "id": "nKoAMFp9ZsSy"
      },
      "outputs": [],
      "source": [
        "from pyspark.sql import SparkSession\n",
        "from pyspark.sql.functions import col, expr, mean, corr"
      ]
    },
    {
      "cell_type": "code",
      "source": [
        "spark=SparkSession.builder.appName(\"Estadisticas\").getOrCreate()"
      ],
      "metadata": {
        "id": "wfzHRz5nZ78y"
      },
      "execution_count": null,
      "outputs": []
    },
    {
      "cell_type": "code",
      "source": [
        "spark.stop()"
      ],
      "metadata": {
        "id": "cII__te-aIfw"
      },
      "execution_count": null,
      "outputs": []
    },
    {
      "cell_type": "code",
      "source": [
        "spark"
      ],
      "metadata": {
        "colab": {
          "base_uri": "https://localhost:8080/",
          "height": 219
        },
        "id": "ByUpkbItaLgw",
        "outputId": "cc16b38d-9cdf-4d9a-f9e1-45cb8f66a6b4"
      },
      "execution_count": null,
      "outputs": [
        {
          "output_type": "execute_result",
          "data": {
            "text/plain": [
              "<pyspark.sql.session.SparkSession at 0x7ca979001ff0>"
            ],
            "text/html": [
              "\n",
              "            <div>\n",
              "                <p><b>SparkSession - in-memory</b></p>\n",
              "                \n",
              "        <div>\n",
              "            <p><b>SparkContext</b></p>\n",
              "\n",
              "            <p><a href=\"http://0aa03e4446bd:4040\">Spark UI</a></p>\n",
              "\n",
              "            <dl>\n",
              "              <dt>Version</dt>\n",
              "                <dd><code>v3.5.3</code></dd>\n",
              "              <dt>Master</dt>\n",
              "                <dd><code>local[*]</code></dd>\n",
              "              <dt>AppName</dt>\n",
              "                <dd><code>Estadistica</code></dd>\n",
              "            </dl>\n",
              "        </div>\n",
              "        \n",
              "            </div>\n",
              "        "
            ]
          },
          "metadata": {},
          "execution_count": 11
        }
      ]
    },
    {
      "cell_type": "code",
      "source": [
        "ALUM_UNI= spark.read.csv(\"/content/sema13333.csv\",header=True,sep=\";\",inferSchema=True,nullValue=\"NULL\",encoding=\"UTF-8\")"
      ],
      "metadata": {
        "id": "AW6M7ms_olht"
      },
      "execution_count": 94,
      "outputs": []
    },
    {
      "cell_type": "code",
      "source": [
        "ALUM_UNI.show()"
      ],
      "metadata": {
        "colab": {
          "base_uri": "https://localhost:8080/"
        },
        "id": "rmRyHxjzpsr0",
        "outputId": "6d97df92-b9fe-440b-8e34-f3cd628ba319"
      },
      "execution_count": 95,
      "outputs": [
        {
          "output_type": "stream",
          "name": "stdout",
          "text": [
            "+--------+----+----+\n",
            "| Alumnos|  T1|  T2|\n",
            "+--------+----+----+\n",
            "|  Héctor|  20|   7|\n",
            "|Verónica|  11|  12|\n",
            "|  Carlos|  12|  14|\n",
            "|    Raúl|  16|  15|\n",
            "| Beatriz|  12|   6|\n",
            "|  Andrés|  18|   4|\n",
            "|Patricia|  18|   3|\n",
            "|    Iván|  19|   4|\n",
            "|   Oscar|  13|  12|\n",
            "| Bárbara|  14|  16|\n",
            "|    José|  20|  18|\n",
            "| Mariana|  11|  19|\n",
            "|    NULL|NULL|NULL|\n",
            "+--------+----+----+\n",
            "\n"
          ]
        }
      ]
    },
    {
      "cell_type": "code",
      "source": [
        "from pyspark.sql import functions as Fila\n",
        "ALUM_UNI_MEDIA=ALUM_UNI.select(Fila.avg(\"T1\").alias(\"MEDIA_T1\"),Fila.avg(\"T2\").alias(\"MEDIA_T2\"))\n",
        "ALUM_UNI_MEDIA.show()"
      ],
      "metadata": {
        "colab": {
          "base_uri": "https://localhost:8080/"
        },
        "id": "2B-xKOjttoIW",
        "outputId": "30e0ee9f-0844-4f45-99a9-6c3edd6eb3a9"
      },
      "execution_count": 97,
      "outputs": [
        {
          "output_type": "stream",
          "name": "stdout",
          "text": [
            "+------------------+------------------+\n",
            "|          MEDIA_T1|          MEDIA_T2|\n",
            "+------------------+------------------+\n",
            "|15.333333333333334|10.833333333333334|\n",
            "+------------------+------------------+\n",
            "\n"
          ]
        }
      ]
    }
  ]
}